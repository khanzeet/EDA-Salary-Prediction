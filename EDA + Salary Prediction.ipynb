{
 "cells": [
  {
   "cell_type": "code",
   "execution_count": null,
   "id": "dcfb0834-0da6-4eca-8080-09ab5c4a268a",
   "metadata": {},
   "outputs": [],
   "source": [
    "import numpy as np # linear algebra\n",
    "import pandas as pd # data processing, CSV file I/O (e.g. pd.read_csv)\n",
    "\n",
    "import matplotlib.pyplot as plt\n",
    "import seaborn as sns\n",
    "\n",
    "import warnings\n",
    "warnings.filterwarnings('ignore')\n",
    "\n",
    "from sklearn.model_selection import train_test_split\n",
    "from sklearn.preprocessing import OneHotEncoder, OrdinalEncoder\n",
    "from sklearn.compose import ColumnTransformer\n",
    "from sklearn.pipeline import Pipeline\n",
    "from sklearn.impute import SimpleImputer\n",
    "from sklearn.ensemble import RandomForestRegressor\n",
    "from sklearn.metrics import mean_squared_error, r2_score\n"
   ]
  },
  {
   "cell_type": "code",
   "execution_count": null,
   "id": "fc44ad21-bd5c-403c-bd8a-27655b6ad794",
   "metadata": {},
   "outputs": [],
   "source": [
    "df = pd.read_csv('ai_job_dataset.csv')"
   ]
  },
  {
   "cell_type": "code",
   "execution_count": null,
   "id": "732014fc-513b-4be9-9e7a-5b6249267576",
   "metadata": {},
   "outputs": [],
   "source": [
    "df.head()"
   ]
  },
  {
   "cell_type": "code",
   "execution_count": null,
   "id": "83315855-e683-47af-bff7-bcebd0a2299c",
   "metadata": {},
   "outputs": [],
   "source": [
    "df.shape"
   ]
  },
  {
   "cell_type": "code",
   "execution_count": null,
   "id": "34786e52-b921-4d9f-a051-ed5606594f1c",
   "metadata": {},
   "outputs": [],
   "source": [
    "df.isnull().sum()"
   ]
  },
  {
   "cell_type": "code",
   "execution_count": null,
   "id": "5240db8a-875d-41f5-9c8a-b70ff92b0ffb",
   "metadata": {},
   "outputs": [],
   "source": [
    "df.duplicated().sum()"
   ]
  },
  {
   "cell_type": "code",
   "execution_count": null,
   "id": "913f03cd-61f1-4353-a590-e1e3de6bdbda",
   "metadata": {},
   "outputs": [],
   "source": [
    "df.info()"
   ]
  },
  {
   "cell_type": "code",
   "execution_count": null,
   "id": "db2bee03-df82-49e3-af3a-ea71c8c54dac",
   "metadata": {},
   "outputs": [],
   "source": [
    "df.describe()"
   ]
  },
  {
   "cell_type": "markdown",
   "id": "bb52b2ac-6ab8-4918-990a-98d0c982ca23",
   "metadata": {},
   "source": [
    "## Exploratory Data Analysis"
   ]
  },
  {
   "cell_type": "markdown",
   "id": "5f69b7bb-b290-4e39-a258-1bc6ec7660fc",
   "metadata": {},
   "source": [
    "## Salary Distribution"
   ]
  },
  {
   "cell_type": "code",
   "execution_count": null,
   "id": "82598f80-1531-492d-a40f-d9fa924cd23d",
   "metadata": {},
   "outputs": [],
   "source": [
    "sns.histplot(df['salary_usd'], bins=30, kde=True)\n",
    "plt.title('Distribution of Salary (USD)')\n",
    "plt.xlabel('Salary')\n",
    "plt.ylabel('Frequency')\n",
    "plt.show()"
   ]
  },
  {
   "cell_type": "markdown",
   "id": "a06a51f8-ba87-4e8d-9407-27d5e296d78a",
   "metadata": {},
   "source": [
    "## Outlier in Salary"
   ]
  },
  {
   "cell_type": "code",
   "execution_count": null,
   "id": "e3dd6458-a328-4ade-b55e-0aa74e2a96d9",
   "metadata": {},
   "outputs": [],
   "source": [
    "sns.boxplot(x=df['salary_usd'])\n",
    "plt.title('Boxplot of Salary (USD)')\n",
    "plt.show()"
   ]
  },
  {
   "cell_type": "markdown",
   "id": "da08e233-584d-4846-9d6a-2f09d3a68cde",
   "metadata": {},
   "source": [
    "# Preprocessing: Handle categorical & ordinal features"
   ]
  },
  {
   "cell_type": "markdown",
   "id": "4e3bf383-9195-47cb-8ab8-b7c3eb09d7c1",
   "metadata": {},
   "source": [
    "## Salary vs. Experience Level"
   ]
  },
  {
   "cell_type": "code",
   "execution_count": null,
   "id": "f11f8b5a-2c5a-4322-878e-dbdd210b6b4e",
   "metadata": {},
   "outputs": [],
   "source": [
    "sns.boxplot(x='experience_level', y='salary_usd', data=df)\n",
    "plt.title('Salary by Experience Level')\n",
    "plt.show()"
   ]
  },
  {
   "cell_type": "code",
   "execution_count": null,
   "id": "d5b36da3-5a5a-429f-b394-780454417e9d",
   "metadata": {},
   "outputs": [],
   "source": [
    "# Map ordinal features\n",
    "# Experience level\n",
    "exp_map = {'EN': 0, 'MI': 1, 'SE': 2, 'EX': 3}\n",
    "df['experience_level'] = df['experience_level'].map(exp_map)\n",
    "\n",
    "# Education level (sample map — adjust based on actual data)\n",
    "edu_map = {\n",
    "    'High School': 0,\n",
    "    'Associate': 1,\n",
    "    'Bachelor': 2,\n",
    "    'Master': 3,\n",
    "    'PhD': 4\n",
    "}\n",
    "df['education_required'] = df['education_required'].map(edu_map)\n",
    "\n",
    "# Company size\n",
    "size_map = {'S': 0, 'M': 1, 'L': 2}\n",
    "df['company_size'] = df['company_size'].map(size_map)"
   ]
  },
  {
   "cell_type": "markdown",
   "id": "630cce9d-1c4c-4303-bb2f-2f194bef3498",
   "metadata": {},
   "source": [
    "## Define Features and Target"
   ]
  },
  {
   "cell_type": "code",
   "execution_count": null,
   "id": "22a763ac-787d-4e92-91e8-0788e292b5c5",
   "metadata": {},
   "outputs": [],
   "source": [
    "target = 'salary_usd'\n",
    "\n",
    "features = [\n",
    "    'experience_level', 'education_required', 'company_size', 'remote_ratio',\n",
    "    'employment_type','company_location', 'employee_residence'\n",
    "]\n",
    "\n",
    "X = df[features]\n",
    "y = df[target]"
   ]
  },
  {
   "cell_type": "markdown",
   "id": "de6f760f-c576-4304-8503-328d7d5c4569",
   "metadata": {},
   "source": [
    "## ColumnTransformer for encoding"
   ]
  },
  {
   "cell_type": "code",
   "execution_count": null,
   "id": "169590ed-0327-414a-8a44-be64388e42c3",
   "metadata": {},
   "outputs": [],
   "source": [
    "# Define column types\n",
    "numeric_features = ['experience_level', 'education_required', 'company_size', 'remote_ratio']\n",
    "categorical_features = ['employment_type','company_location', 'employee_residence']\n",
    "\n",
    "# Preprocessing steps\n",
    "preprocessor = ColumnTransformer(\n",
    "    transformers=[\n",
    "        ('num', SimpleImputer(strategy='median'), numeric_features),\n",
    "        ('cat', OneHotEncoder(handle_unknown='ignore'), categorical_features)\n",
    "    ])"
   ]
  },
  {
   "cell_type": "markdown",
   "id": "d30e6550-1d6c-475d-8305-e055202ea964",
   "metadata": {},
   "source": [
    "### Create pipeline with mode"
   ]
  },
  {
   "cell_type": "code",
   "execution_count": null,
   "id": "a9e5742c-dc5d-4630-9035-5828b9214ef4",
   "metadata": {},
   "outputs": [],
   "source": [
    "model = Pipeline(steps=[\n",
    "    ('preprocessor', preprocessor),\n",
    "    ('regressor', RandomForestRegressor(random_state=42))\n",
    "])"
   ]
  },
  {
   "cell_type": "markdown",
   "id": "71d7d37d-2cf2-4274-a215-5c8d6b3508e5",
   "metadata": {},
   "source": [
    "### Train-test split and model training"
   ]
  },
  {
   "cell_type": "code",
   "execution_count": null,
   "id": "f062cf9b-bfff-432b-a839-568e46d43103",
   "metadata": {},
   "outputs": [],
   "source": [
    "X_train, X_test, y_train, y_test = train_test_split(X, y, test_size=0.2, random_state=42)\n",
    "\n",
    "model.fit(X_train, y_train)\n",
    "y_pred = model.predict(X_test)"
   ]
  },
  {
   "cell_type": "markdown",
   "id": "bf441b02-0f85-461e-bb2e-8603f04cccbb",
   "metadata": {},
   "source": [
    "## Evaluate performance"
   ]
  },
  {
   "cell_type": "code",
   "execution_count": null,
   "id": "2f43b546-7f97-444a-a929-85f2a8923f78",
   "metadata": {},
   "outputs": [],
   "source": [
    "rmse = mean_squared_error(y_test, y_pred, squared=False)\n",
    "r2 = r2_score(y_test, y_pred)\n",
    "\n",
    "print(f\"RMSE: {rmse:.2f}\")\n",
    "print(f\"R² Score: {r2:.2f}\")"
   ]
  },
  {
   "cell_type": "code",
   "execution_count": null,
   "id": "a156e247-4d57-4aa9-910f-7535295a05be",
   "metadata": {},
   "outputs": [],
   "source": []
  }
 ],
 "metadata": {
  "kernelspec": {
   "display_name": "Python 3 (ipykernel)",
   "language": "python",
   "name": "python3"
  },
  "language_info": {
   "codemirror_mode": {
    "name": "ipython",
    "version": 3
   },
   "file_extension": ".py",
   "mimetype": "text/x-python",
   "name": "python",
   "nbconvert_exporter": "python",
   "pygments_lexer": "ipython3",
   "version": "3.12.7"
  }
 },
 "nbformat": 4,
 "nbformat_minor": 5
}
